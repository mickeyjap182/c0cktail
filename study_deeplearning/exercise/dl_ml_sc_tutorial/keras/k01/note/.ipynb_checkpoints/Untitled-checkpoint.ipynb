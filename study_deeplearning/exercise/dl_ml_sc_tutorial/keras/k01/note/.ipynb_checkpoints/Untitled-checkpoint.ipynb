{
 "cells": [
  {
   "cell_type": "code",
   "execution_count": 9,
   "metadata": {},
   "outputs": [
    {
     "name": "stdout",
     "output_type": "stream",
     "text": [
      "'==test=='\n",
      "(50000, 32, 32, 3)\n",
      "(10000, 1)\n",
      "==x_test==\n",
      "32\n",
      "32\n",
      "3\n"
     ]
    }
   ],
   "source": [
    "import numpy as np\n",
    "import matplotlib.pyplot as plt\n",
    "from keras.models import Sequential\n",
    "from keras.layers import Dense, Activation\n",
    "from keras.datasets import cifar10\n",
    "from keras import utils\n",
    "\n",
    "\n",
    "(x_train, y_train), (x_test, y_test) = cifar10.load_data()\n",
    "from pprint import pprint; pprint('==test==')\n",
    "print(x_train.shape)\n",
    "print(y_test.shape)\n",
    "print('==x_test==')\n",
    "print(len(x_test[0]))\n",
    "print(len(x_test[0][0]))\n",
    "print(len(x_test[0][0][0]))\n",
    "# 前処理\n",
    "# x_train = x_train.reshape(60000, 784).astype('float32') /255\n",
    "x_train = x_train.reshape(50000, 3072).astype('float32') /255 # x_train 50000 * 32 * 32 * 3\n",
    "x_test = x_test.reshape(10000, 3072).astype('float32') /255 # x_test 10000 * 32 * 32 * 3\n",
    "\n",
    "y_train = utils.np_utils.to_categorical(y_train.astype('int32'),10)\n",
    "y_test = utils.np_utils.to_categorical(y_test.astype('int32'),10)\n",
    "\n",
    "\n",
    "# モデルの作成\n",
    "# 全結合層3層のみ、Dropoutは、訓練時に一定確率で中間層を無視する関数(過学習防止)\n",
    "# inputs = Input(shape=(784,))\n",
    "\n",
    "# nw = Dense(512, activation='relu')(inputs)\n",
    "# nw = Dropout(.5)(nw)\n",
    "# nw = Dense(512, activation='relu')(nw)\n",
    "# nw = Dropout(.5)(nw)\n",
    "# predictions = Dense(10, activation='softmax')(nw)\n",
    "\n",
    "# history = model.fit(x_train, y_train, batch_size=128, epochs=20, verbose=1, validation_data=(x_test, y_test))\n",
    "\n"
   ]
  },
  {
   "cell_type": "code",
   "execution_count": 16,
   "metadata": {},
   "outputs": [
    {
     "ename": "AttributeError",
     "evalue": "'Figure' object has no attribute 'shape'",
     "output_type": "error",
     "traceback": [
      "\u001b[0;31m---------------------------------------------------------------------------\u001b[0m",
      "\u001b[0;31mAttributeError\u001b[0m                            Traceback (most recent call last)",
      "\u001b[0;32m<ipython-input-16-696b88e3387d>\u001b[0m in \u001b[0;36m<module>\u001b[0;34m\u001b[0m\n\u001b[1;32m      1\u001b[0m \u001b[0mfig\u001b[0m \u001b[0;34m=\u001b[0m \u001b[0mplt\u001b[0m\u001b[0;34m.\u001b[0m\u001b[0mfigure\u001b[0m\u001b[0;34m(\u001b[0m\u001b[0mfigsize\u001b[0m\u001b[0;34m=\u001b[0m\u001b[0;34m(\u001b[0m\u001b[0;36m9\u001b[0m\u001b[0;34m,\u001b[0m\u001b[0;36m9\u001b[0m\u001b[0;34m)\u001b[0m\u001b[0;34m)\u001b[0m\u001b[0;34m\u001b[0m\u001b[0;34m\u001b[0m\u001b[0m\n\u001b[0;32m----> 2\u001b[0;31m \u001b[0mprint\u001b[0m\u001b[0;34m(\u001b[0m\u001b[0mfig\u001b[0m\u001b[0;34m.\u001b[0m\u001b[0mshape\u001b[0m\u001b[0;34m)\u001b[0m\u001b[0;34m\u001b[0m\u001b[0;34m\u001b[0m\u001b[0m\n\u001b[0m\u001b[1;32m      3\u001b[0m \u001b[0;31m# for i in range(36):\u001b[0m\u001b[0;34m\u001b[0m\u001b[0;34m\u001b[0m\u001b[0;34m\u001b[0m\u001b[0m\n\u001b[1;32m      4\u001b[0m \u001b[0;31m#     ax = fig.add_subplot(6, 6, i+1, xticks=[], yticks=[])\u001b[0m\u001b[0;34m\u001b[0m\u001b[0;34m\u001b[0m\u001b[0;34m\u001b[0m\u001b[0m\n\u001b[1;32m      5\u001b[0m \u001b[0;31m#     ax.imshow(x_train[i], cmap='gist_gray')\u001b[0m\u001b[0;34m\u001b[0m\u001b[0;34m\u001b[0m\u001b[0;34m\u001b[0m\u001b[0m\n",
      "\u001b[0;31mAttributeError\u001b[0m: 'Figure' object has no attribute 'shape'"
     ]
    },
    {
     "data": {
      "text/plain": [
       "<Figure size 648x648 with 0 Axes>"
      ]
     },
     "metadata": {},
     "output_type": "display_data"
    }
   ],
   "source": [
    "fig = plt.figure(figsize=(9,9))\n",
    "print(fig.shape)\n",
    "# for i in range(36):\n",
    "#     ax = fig.add_subplot(6, 6, i+1, xticks=[], yticks=[])\n",
    "#     ax.imshow(x_train[i], cmap='gist_gray')"
   ]
  },
  {
   "cell_type": "code",
   "execution_count": 14,
   "metadata": {},
   "outputs": [
    {
     "data": {
      "image/png": "[encoded data removed]",
      "text/plain": [
       "<Figure size 432x288 with 1 Axes>"
      ]
     },
     "metadata": {
      "needs_background": "light"
     },
     "output_type": "display_data"
    }
   ],
   "source": [
    "plt.bar([20, 30, 40, 50, 60], [1234, 5853, 16344, 6794, 3451])\n",
    "plt.show()"
   ]
  },
  {
   "cell_type": "code",
   "execution_count": null,
   "metadata": {},
   "outputs": [],
   "source": []
  }
 ],
 "metadata": {
  "kernelspec": {
   "display_name": "Python 3",
   "language": "python",
   "name": "python3"
  },
  "language_info": {
   "codemirror_mode": {
    "name": "ipython",
    "version": 3
   },
   "file_extension": ".py",
   "mimetype": "text/x-python",
   "name": "python",
   "nbconvert_exporter": "python",
   "pygments_lexer": "ipython3",
   "version": "3.6.7"
  }
 },
 "nbformat": 4,
 "nbformat_minor": 2
}
